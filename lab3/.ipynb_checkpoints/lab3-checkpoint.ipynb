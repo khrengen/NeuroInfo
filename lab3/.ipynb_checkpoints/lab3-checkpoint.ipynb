{
 "cells": [
  {
   "cell_type": "markdown",
   "id": "446747c0",
   "metadata": {},
   "source": [
    "Лабораторная работа №3"
   ]
  },
  {
   "cell_type": "code",
   "execution_count": 184,
   "id": "6fa8fa37",
   "metadata": {},
   "outputs": [],
   "source": [
    "import matplotlib.pyplot as plt \n",
    "from sklearn.datasets import make_classification\n",
    "from sklearn.model_selection import train_test_split\n",
    "import numpy as np\n",
    "import random\n",
    "from keras.utils import np_utils\n",
    "from keras.models import Sequential\n",
    "from keras.layers import Dense"
   ]
  },
  {
   "cell_type": "markdown",
   "id": "7a2e272f",
   "metadata": {},
   "source": [
    "Подготовка данных"
   ]
  },
  {
   "cell_type": "code",
   "execution_count": 193,
   "id": "0eec1c59",
   "metadata": {},
   "outputs": [
    {
     "name": "stdout",
     "output_type": "stream",
     "text": [
      "data example: [9.11 3.1 ] ----> [0. 1. 0.]\n"
     ]
    }
   ],
   "source": [
    "#### training set\n",
    "p, p1, p2 = 0.3,0.5,1.\n",
    "alfa,alfa1,alfa2 = 0,0,0\n",
    "x0,x01,x02 = 0,-0.5,-0.8\n",
    "y0,y01,y02 = 0,0,0\n",
    "\n",
    "t = np.arange(0, np.pi, 0.025)\n",
    "\n",
    "x = (t**2/(2*p))*np.cos(alfa)-t*np.sin(alfa)+x0\n",
    "y = (t**2/(2*p))*np.sin(alfa)+t*np.cos(alfa)+y0\n",
    "\n",
    "x1 = (t**2/(2*p1))*np.cos(alfa1)-t*np.sin(alfa1)+x01\n",
    "y1 = (t**2/(2*p1))*np.sin(alfa1)+t*np.cos(alfa1)+y01\n",
    "\n",
    "x2 = (t**2/(2*p2))*np.cos(alfa2)-t*np.sin(alfa2)+x02\n",
    "y2 = (t**2/(2*p2))*np.sin(alfa2)+t*np.cos(alfa2)+y02\n",
    "\n",
    "X, X1, X2 = np.column_stack((x, y)), np.column_stack((x1, y1)), np.column_stack((x2, y2))\n",
    "## 1 class\n",
    "X = X[np.random.choice(X.shape[0], 60)]\n",
    "Y = np.zeros(X.shape[0])\n",
    "## 2 class\n",
    "X = np.append(X, X1[np.random.choice(X1.shape[0], 100)], axis=0)\n",
    "Y = np.append(Y, np.ones(100))\n",
    "## 3 class\n",
    "X = np.append(X, X2[np.random.choice(X2.shape[0], 120)], axis=0)\n",
    "Y = np.append(Y, np.full(120, 2))\n",
    "Y_norm = Y.copy()\n",
    "Y = np_utils.to_categorical(Y)\n",
    "X_train, X_val_test, y_train, y_val_test = train_test_split(X, Y, train_size=0.7)\n",
    "X_val, X_test, y_val, y_test = train_test_split(X_val_test, y_val_test, train_size=0.66)\n",
    "print('data example: {} ----> {}'.format(X_train[0], y_train[0]))"
   ]
  },
  {
   "cell_type": "markdown",
   "id": "076c900c",
   "metadata": {},
   "source": [
    "Изображение множеств"
   ]
  },
  {
   "cell_type": "code",
   "execution_count": 194,
   "id": "a51cbc4c",
   "metadata": {},
   "outputs": [
    {
     "data": {
      "image/png": "[encoded data removed]",
      "text/plain": [
       "<Figure size 432x288 with 1 Axes>"
      ]
     },
     "metadata": {
      "needs_background": "light"
     },
     "output_type": "display_data"
    }
   ],
   "source": [
    "plt.plot(x, y, '.')\n",
    "plt.plot(x1, y1, '.')\n",
    "plt.plot(x2, y2, '.')\n",
    "plt.show()"
   ]
  },
  {
   "cell_type": "markdown",
   "id": "52942ad9",
   "metadata": {},
   "source": [
    "задание 1"
   ]
  },
  {
   "cell_type": "code",
   "execution_count": 200,
   "id": "1d8f6e9a",
   "metadata": {},
   "outputs": [
    {
     "name": "stdout",
     "output_type": "stream",
     "text": [
      "Model: \"sequential_27\"\n",
      "_________________________________________________________________\n",
      "Layer (type)                 Output Shape              Param #   \n",
      "=================================================================\n",
      "dense_50 (Dense)             (None, 30)                90        \n",
      "_________________________________________________________________\n",
      "dense_51 (Dense)             (None, 30)                930       \n",
      "_________________________________________________________________\n",
      "dense_52 (Dense)             (None, 3)                 93        \n",
      "=================================================================\n",
      "Total params: 1,113\n",
      "Trainable params: 1,113\n",
      "Non-trainable params: 0\n",
      "_________________________________________________________________\n",
      "None\n"
     ]
    }
   ],
   "source": [
    "model = Sequential()\n",
    "model.add(Dense(30, input_dim=X.shape[1], activation='tanh'))\n",
    "model.add(Dense(30, activation='tanh'))\n",
    "model.add(Dense(Y.shape[1], activation='softmax'))\n",
    "\n",
    "model.compile(loss='categorical_crossentropy', \n",
    "              optimizer='adam',\n",
    "              metrics=['accuracy'])\n",
    "print(model.summary())"
   ]
  },
  {
   "cell_type": "code",
   "execution_count": 201,
   "id": "0cd9ba80",
   "metadata": {
    "scrolled": true
   },
   "outputs": [
    {
     "name": "stdout",
     "output_type": "stream",
     "text": [
      "Epoch 1/50\n",
      "7/7 [==============================] - 1s 56ms/step - loss: 1.1636 - accuracy: 0.3383 - val_loss: 1.0318 - val_accuracy: 0.4182\n",
      "Epoch 2/50\n",
      "7/7 [==============================] - 0s 7ms/step - loss: 1.0302 - accuracy: 0.4939 - val_loss: 0.9926 - val_accuracy: 0.4909\n",
      "Epoch 3/50\n",
      "7/7 [==============================] - 0s 7ms/step - loss: 0.9301 - accuracy: 0.5764 - val_loss: 0.9652 - val_accuracy: 0.5455\n",
      "Epoch 4/50\n",
      "7/7 [==============================] - 0s 7ms/step - loss: 0.8930 - accuracy: 0.5783 - val_loss: 0.9444 - val_accuracy: 0.5818\n",
      "Epoch 5/50\n",
      "7/7 [==============================] - 0s 6ms/step - loss: 0.8490 - accuracy: 0.6617 - val_loss: 0.9308 - val_accuracy: 0.5455\n",
      "Epoch 6/50\n",
      "7/7 [==============================] - 0s 7ms/step - loss: 0.8315 - accuracy: 0.6481 - val_loss: 0.9242 - val_accuracy: 0.4545\n",
      "Epoch 7/50\n",
      "7/7 [==============================] - 0s 6ms/step - loss: 0.8274 - accuracy: 0.5972 - val_loss: 0.9176 - val_accuracy: 0.4727\n",
      "Epoch 8/50\n",
      "7/7 [==============================] - 0s 6ms/step - loss: 0.7528 - accuracy: 0.6360 - val_loss: 0.8942 - val_accuracy: 0.4727\n",
      "Epoch 9/50\n",
      "7/7 [==============================] - 0s 9ms/step - loss: 0.7704 - accuracy: 0.6377 - val_loss: 0.8853 - val_accuracy: 0.4909\n",
      "Epoch 10/50\n",
      "7/7 [==============================] - 0s 9ms/step - loss: 0.7533 - accuracy: 0.6182 - val_loss: 0.8755 - val_accuracy: 0.4909\n",
      "Epoch 11/50\n",
      "7/7 [==============================] - 0s 9ms/step - loss: 0.7665 - accuracy: 0.5892 - val_loss: 0.8618 - val_accuracy: 0.4909\n",
      "Epoch 12/50\n",
      "7/7 [==============================] - 0s 8ms/step - loss: 0.7023 - accuracy: 0.6784 - val_loss: 0.8518 - val_accuracy: 0.5091\n",
      "Epoch 13/50\n",
      "7/7 [==============================] - 0s 6ms/step - loss: 0.7305 - accuracy: 0.6450 - val_loss: 0.8420 - val_accuracy: 0.4909\n",
      "Epoch 14/50\n",
      "7/7 [==============================] - 0s 6ms/step - loss: 0.6845 - accuracy: 0.6819 - val_loss: 0.8388 - val_accuracy: 0.4909\n",
      "Epoch 15/50\n",
      "7/7 [==============================] - 0s 7ms/step - loss: 0.6899 - accuracy: 0.6603 - val_loss: 0.8274 - val_accuracy: 0.4909\n",
      "Epoch 16/50\n",
      "7/7 [==============================] - 0s 7ms/step - loss: 0.6993 - accuracy: 0.6455 - val_loss: 0.8149 - val_accuracy: 0.4909\n",
      "Epoch 17/50\n",
      "7/7 [==============================] - 0s 6ms/step - loss: 0.6692 - accuracy: 0.6657 - val_loss: 0.8043 - val_accuracy: 0.4909\n",
      "Epoch 18/50\n",
      "7/7 [==============================] - 0s 6ms/step - loss: 0.6821 - accuracy: 0.6360 - val_loss: 0.7922 - val_accuracy: 0.5091\n",
      "Epoch 19/50\n",
      "7/7 [==============================] - 0s 5ms/step - loss: 0.6217 - accuracy: 0.6895 - val_loss: 0.7783 - val_accuracy: 0.5091\n",
      "Epoch 20/50\n",
      "7/7 [==============================] - 0s 5ms/step - loss: 0.6384 - accuracy: 0.6788 - val_loss: 0.7657 - val_accuracy: 0.5273\n",
      "Epoch 21/50\n",
      "7/7 [==============================] - 0s 7ms/step - loss: 0.6459 - accuracy: 0.6533 - val_loss: 0.7532 - val_accuracy: 0.5455\n",
      "Epoch 22/50\n",
      "7/7 [==============================] - 0s 5ms/step - loss: 0.6205 - accuracy: 0.6946 - val_loss: 0.7410 - val_accuracy: 0.5455\n",
      "Epoch 23/50\n",
      "7/7 [==============================] - 0s 7ms/step - loss: 0.5993 - accuracy: 0.7055 - val_loss: 0.7279 - val_accuracy: 0.5636\n",
      "Epoch 24/50\n",
      "7/7 [==============================] - 0s 5ms/step - loss: 0.6085 - accuracy: 0.6708 - val_loss: 0.7145 - val_accuracy: 0.5636\n",
      "Epoch 25/50\n",
      "7/7 [==============================] - 0s 5ms/step - loss: 0.5994 - accuracy: 0.6678 - val_loss: 0.6994 - val_accuracy: 0.6000\n",
      "Epoch 26/50\n",
      "7/7 [==============================] - 0s 5ms/step - loss: 0.5716 - accuracy: 0.7266 - val_loss: 0.6885 - val_accuracy: 0.6000\n",
      "Epoch 27/50\n",
      "7/7 [==============================] - 0s 7ms/step - loss: 0.5469 - accuracy: 0.7517 - val_loss: 0.6817 - val_accuracy: 0.5818\n",
      "Epoch 28/50\n",
      "7/7 [==============================] - 0s 7ms/step - loss: 0.5808 - accuracy: 0.6745 - val_loss: 0.6735 - val_accuracy: 0.5818\n",
      "Epoch 29/50\n",
      "7/7 [==============================] - 0s 5ms/step - loss: 0.5581 - accuracy: 0.7258 - val_loss: 0.6638 - val_accuracy: 0.5636\n",
      "Epoch 30/50\n",
      "7/7 [==============================] - ETA: 0s - loss: 0.5064 - accuracy: 0.71 - 0s 5ms/step - loss: 0.5408 - accuracy: 0.7179 - val_loss: 0.6423 - val_accuracy: 0.6182\n",
      "Epoch 31/50\n",
      "7/7 [==============================] - 0s 6ms/step - loss: 0.5013 - accuracy: 0.7614 - val_loss: 0.6273 - val_accuracy: 0.6364\n",
      "Epoch 32/50\n",
      "7/7 [==============================] - 0s 6ms/step - loss: 0.5052 - accuracy: 0.7769 - val_loss: 0.6134 - val_accuracy: 0.6545\n",
      "Epoch 33/50\n",
      "7/7 [==============================] - 0s 6ms/step - loss: 0.4747 - accuracy: 0.7727 - val_loss: 0.6032 - val_accuracy: 0.6000\n",
      "Epoch 34/50\n",
      "7/7 [==============================] - 0s 6ms/step - loss: 0.4658 - accuracy: 0.7716 - val_loss: 0.5872 - val_accuracy: 0.6364\n",
      "Epoch 35/50\n",
      "7/7 [==============================] - 0s 6ms/step - loss: 0.4799 - accuracy: 0.7608 - val_loss: 0.5693 - val_accuracy: 0.7273\n",
      "Epoch 36/50\n",
      "7/7 [==============================] - 0s 6ms/step - loss: 0.4565 - accuracy: 0.8186 - val_loss: 0.5536 - val_accuracy: 0.7273\n",
      "Epoch 37/50\n",
      "7/7 [==============================] - 0s 7ms/step - loss: 0.4497 - accuracy: 0.7965 - val_loss: 0.5370 - val_accuracy: 0.7091\n",
      "Epoch 38/50\n",
      "7/7 [==============================] - 0s 5ms/step - loss: 0.4385 - accuracy: 0.7916 - val_loss: 0.5198 - val_accuracy: 0.7273\n",
      "Epoch 39/50\n",
      "7/7 [==============================] - 0s 7ms/step - loss: 0.4441 - accuracy: 0.8218 - val_loss: 0.5086 - val_accuracy: 0.7455\n",
      "Epoch 40/50\n",
      "7/7 [==============================] - 0s 6ms/step - loss: 0.4241 - accuracy: 0.8128 - val_loss: 0.5019 - val_accuracy: 0.7455\n",
      "Epoch 41/50\n",
      "7/7 [==============================] - 0s 8ms/step - loss: 0.4168 - accuracy: 0.8534 - val_loss: 0.4877 - val_accuracy: 0.7636\n",
      "Epoch 42/50\n",
      "7/7 [==============================] - 0s 7ms/step - loss: 0.4119 - accuracy: 0.8323 - val_loss: 0.4809 - val_accuracy: 0.8182\n",
      "Epoch 43/50\n",
      "7/7 [==============================] - 0s 7ms/step - loss: 0.3832 - accuracy: 0.8529 - val_loss: 0.4771 - val_accuracy: 0.8545\n",
      "Epoch 44/50\n",
      "7/7 [==============================] - 0s 6ms/step - loss: 0.3776 - accuracy: 0.8660 - val_loss: 0.4632 - val_accuracy: 0.8364\n",
      "Epoch 45/50\n",
      "7/7 [==============================] - 0s 6ms/step - loss: 0.3865 - accuracy: 0.8411 - val_loss: 0.4462 - val_accuracy: 0.7636\n",
      "Epoch 46/50\n",
      "7/7 [==============================] - 0s 6ms/step - loss: 0.3763 - accuracy: 0.8475 - val_loss: 0.4364 - val_accuracy: 0.7273\n",
      "Epoch 47/50\n",
      "7/7 [==============================] - 0s 7ms/step - loss: 0.3626 - accuracy: 0.8090 - val_loss: 0.4218 - val_accuracy: 0.7818\n",
      "Epoch 48/50\n",
      "7/7 [==============================] - 0s 6ms/step - loss: 0.3797 - accuracy: 0.8446 - val_loss: 0.4147 - val_accuracy: 0.8545\n",
      "Epoch 49/50\n",
      "7/7 [==============================] - 0s 6ms/step - loss: 0.3574 - accuracy: 0.8567 - val_loss: 0.4069 - val_accuracy: 0.8727\n",
      "Epoch 50/50\n",
      "7/7 [==============================] - 0s 5ms/step - loss: 0.3180 - accuracy: 0.9118 - val_loss: 0.3897 - val_accuracy: 0.8909\n"
     ]
    },
    {
     "data": {
      "text/plain": [
       "<keras.callbacks.History at 0x1f171b3f040>"
      ]
     },
     "execution_count": 201,
     "metadata": {},
     "output_type": "execute_result"
    }
   ],
   "source": [
    "model.fit(X_train, y_train, validation_data=(X_val, y_val), epochs=50)"
   ]
  },
  {
   "cell_type": "markdown",
   "id": "660dde46",
   "metadata": {},
   "source": [
    "преобразование выхода в one hot encoding"
   ]
  },
  {
   "cell_type": "code",
   "execution_count": 202,
   "id": "f621db17",
   "metadata": {},
   "outputs": [],
   "source": [
    "def get_out(x):\n",
    "    for pred in x:\n",
    "        for i in range(len(pred)):\n",
    "            if pred[i] >= 0.5:\n",
    "                pred[i] = 1\n",
    "            else:\n",
    "                pred[i] = 0\n",
    "    return x"
   ]
  },
  {
   "cell_type": "markdown",
   "id": "4058b2aa",
   "metadata": {},
   "source": [
    "точность на тестовой выборке"
   ]
  },
  {
   "cell_type": "code",
   "execution_count": 203,
   "id": "55bdb972",
   "metadata": {},
   "outputs": [
    {
     "name": "stdout",
     "output_type": "stream",
     "text": [
      "accur = 0.9310344827586207\n"
     ]
    }
   ],
   "source": [
    "pred = model.predict(X_test)\n",
    "count = 0\n",
    "for i in range(len(pred)): \n",
    "    if np.argmax(pred[i]) == np.argmax(y_test[i]):\n",
    "        count +=1\n",
    "acc = count/len(pred)\n",
    "print(\"accur = {}\".format(acc))"
   ]
  },
  {
   "cell_type": "code",
   "execution_count": 204,
   "id": "0585f295",
   "metadata": {},
   "outputs": [
    {
     "name": "stdout",
     "output_type": "stream",
     "text": [
      "1/1 [==============================] - 0s 12ms/step - loss: 0.3622 - accuracy: 0.9310\n"
     ]
    },
    {
     "data": {
      "text/plain": [
       "[0.36222317814826965, 0.931034505367279]"
      ]
     },
     "execution_count": 204,
     "metadata": {},
     "output_type": "execute_result"
    }
   ],
   "source": [
    "model.evaluate(X_test, y_test)"
   ]
  },
  {
   "cell_type": "markdown",
   "id": "9a0cd2f0",
   "metadata": {},
   "source": [
    "кодирование принадлежности к классам различными цветами"
   ]
  },
  {
   "cell_type": "code",
   "execution_count": 205,
   "id": "ca8fee18",
   "metadata": {},
   "outputs": [
    {
     "data": {
      "image/png": "[encoded data removed]",
      "text/plain": [
       "<Figure size 432x288 with 1 Axes>"
      ]
     },
     "metadata": {
      "needs_background": "light"
     },
     "output_type": "display_data"
    }
   ],
   "source": [
    "colors = model.predict(X)\n",
    "plt.scatter(X[:,0], X[:,1], c=colors)\n",
    "plt.show()"
   ]
  },
  {
   "cell_type": "markdown",
   "id": "e84a0090",
   "metadata": {},
   "source": [
    "задание 2\n",
    "\n",
    "график функции"
   ]
  },
  {
   "cell_type": "code",
   "execution_count": 206,
   "id": "0bbd5ab5",
   "metadata": {},
   "outputs": [
    {
     "data": {
      "image/png": "[encoded data removed]",
      "text/plain": [
       "<Figure size 432x288 with 1 Axes>"
      ]
     },
     "metadata": {
      "needs_background": "light"
     },
     "output_type": "display_data"
    }
   ],
   "source": [
    "t = np.arange(0, 6., 0.02)\n",
    "x = np.sin(t*t-5*t+6)\n",
    "plt.plot(t, x, '-')\n",
    "plt.show()"
   ]
  },
  {
   "cell_type": "markdown",
   "id": "c5d29460",
   "metadata": {},
   "source": [
    "подготовка обучающей выборки"
   ]
  },
  {
   "cell_type": "code",
   "execution_count": 209,
   "id": "7c36b4c2",
   "metadata": {},
   "outputs": [],
   "source": [
    "d = 10\n",
    "X = np.array([])\n",
    "Y = np.array([])\n",
    "for i in range(len(t)-d):\n",
    "    X = np.append(X, x[i:i+d])\n",
    "    Y = np.append(Y, x[i+d])\n",
    "X = np.resize(X,(len(Y),d))\n",
    "\n",
    "X_test = X[-28:]\n",
    "y_test = Y[-28:]\n",
    "X_train = X[:-28]\n",
    "y_train = Y[:-28]"
   ]
  },
  {
   "cell_type": "markdown",
   "id": "48901d31",
   "metadata": {},
   "source": [
    "модель для задачи регрессии"
   ]
  },
  {
   "cell_type": "code",
   "execution_count": 228,
   "id": "11ac2dcd",
   "metadata": {},
   "outputs": [
    {
     "name": "stdout",
     "output_type": "stream",
     "text": [
      "Model: \"sequential_32\"\n",
      "_________________________________________________________________\n",
      "Layer (type)                 Output Shape              Param #   \n",
      "=================================================================\n",
      "dense_61 (Dense)             (None, 50)                550       \n",
      "_________________________________________________________________\n",
      "dense_62 (Dense)             (None, 1)                 51        \n",
      "=================================================================\n",
      "Total params: 601\n",
      "Trainable params: 601\n",
      "Non-trainable params: 0\n",
      "_________________________________________________________________\n",
      "None\n"
     ]
    }
   ],
   "source": [
    "model = Sequential()\n",
    "model.add(Dense(50, activation='tanh', input_dim=X.shape[1]))\n",
    "model.add(Dense(1, activation='linear'))\n",
    "model.compile(optimizer='rmsprop', loss='mse', metrics=['mae'])\n",
    "print(model.summary())"
   ]
  },
  {
   "cell_type": "code",
   "execution_count": 229,
   "id": "b811bc58",
   "metadata": {
    "scrolled": true
   },
   "outputs": [
    {
     "name": "stdout",
     "output_type": "stream",
     "text": [
      "Epoch 1/40\n",
      "10/10 [==============================] - 1s 5ms/step - loss: 0.0953 - mae: 0.2442\n",
      "Epoch 2/40\n",
      "10/10 [==============================] - 0s 3ms/step - loss: 0.0311 - mae: 0.1415\n",
      "Epoch 3/40\n",
      "10/10 [==============================] - 0s 4ms/step - loss: 0.0126 - mae: 0.0897\n",
      "Epoch 4/40\n",
      "10/10 [==============================] - 0s 3ms/step - loss: 0.0058 - mae: 0.0580\n",
      "Epoch 5/40\n",
      "10/10 [==============================] - 0s 3ms/step - loss: 0.0040 - mae: 0.0487\n",
      "Epoch 6/40\n",
      "10/10 [==============================] - 0s 3ms/step - loss: 0.0030 - mae: 0.0431\n",
      "Epoch 7/40\n",
      "10/10 [==============================] - 0s 3ms/step - loss: 0.0043 - mae: 0.0492\n",
      "Epoch 8/40\n",
      "10/10 [==============================] - 0s 4ms/step - loss: 0.0033 - mae: 0.0434\n",
      "Epoch 9/40\n",
      "10/10 [==============================] - 0s 4ms/step - loss: 0.0053 - mae: 0.0545\n",
      "Epoch 10/40\n",
      "10/10 [==============================] - 0s 4ms/step - loss: 0.0059 - mae: 0.0527\n",
      "Epoch 11/40\n",
      "10/10 [==============================] - 0s 3ms/step - loss: 0.0022 - mae: 0.0367\n",
      "Epoch 12/40\n",
      "10/10 [==============================] - 0s 5ms/step - loss: 0.0024 - mae: 0.0373\n",
      "Epoch 13/40\n",
      "10/10 [==============================] - 0s 5ms/step - loss: 0.0019 - mae: 0.0335\n",
      "Epoch 14/40\n",
      "10/10 [==============================] - 0s 5ms/step - loss: 0.0051 - mae: 0.0509\n",
      "Epoch 15/40\n",
      "10/10 [==============================] - 0s 4ms/step - loss: 0.0019 - mae: 0.0326\n",
      "Epoch 16/40\n",
      "10/10 [==============================] - 0s 5ms/step - loss: 0.0019 - mae: 0.0332\n",
      "Epoch 17/40\n",
      "10/10 [==============================] - 0s 4ms/step - loss: 0.0027 - mae: 0.0369\n",
      "Epoch 18/40\n",
      "10/10 [==============================] - 0s 4ms/step - loss: 0.0043 - mae: 0.0485\n",
      "Epoch 19/40\n",
      "10/10 [==============================] - 0s 4ms/step - loss: 0.0021 - mae: 0.0336\n",
      "Epoch 20/40\n",
      "10/10 [==============================] - 0s 4ms/step - loss: 0.0012 - mae: 0.0250\n",
      "Epoch 21/40\n",
      "10/10 [==============================] - 0s 4ms/step - loss: 0.0023 - mae: 0.0349\n",
      "Epoch 22/40\n",
      "10/10 [==============================] - 0s 4ms/step - loss: 0.0022 - mae: 0.0354\n",
      "Epoch 23/40\n",
      "10/10 [==============================] - 0s 4ms/step - loss: 0.0027 - mae: 0.0374\n",
      "Epoch 24/40\n",
      "10/10 [==============================] - 0s 3ms/step - loss: 0.0017 - mae: 0.0293\n",
      "Epoch 25/40\n",
      "10/10 [==============================] - 0s 3ms/step - loss: 0.0024 - mae: 0.0364\n",
      "Epoch 26/40\n",
      "10/10 [==============================] - 0s 5ms/step - loss: 0.0014 - mae: 0.0256\n",
      "Epoch 27/40\n",
      "10/10 [==============================] - 0s 4ms/step - loss: 0.0023 - mae: 0.0362\n",
      "Epoch 28/40\n",
      "10/10 [==============================] - 0s 4ms/step - loss: 0.0010 - mae: 0.0226\n",
      "Epoch 29/40\n",
      "10/10 [==============================] - 0s 4ms/step - loss: 0.0022 - mae: 0.0362\n",
      "Epoch 30/40\n",
      "10/10 [==============================] - 0s 3ms/step - loss: 0.0014 - mae: 0.0271\n",
      "Epoch 31/40\n",
      "10/10 [==============================] - 0s 5ms/step - loss: 7.0459e-04 - mae: 0.0194\n",
      "Epoch 32/40\n",
      "10/10 [==============================] - 0s 5ms/step - loss: 0.0045 - mae: 0.0436\n",
      "Epoch 33/40\n",
      "10/10 [==============================] - 0s 5ms/step - loss: 8.6259e-04 - mae: 0.0204\n",
      "Epoch 34/40\n",
      "10/10 [==============================] - 0s 5ms/step - loss: 0.0023 - mae: 0.0340\n",
      "Epoch 35/40\n",
      "10/10 [==============================] - 0s 5ms/step - loss: 0.0019 - mae: 0.0313\n",
      "Epoch 36/40\n",
      "10/10 [==============================] - 0s 5ms/step - loss: 0.0026 - mae: 0.0334\n",
      "Epoch 37/40\n",
      "10/10 [==============================] - 0s 5ms/step - loss: 0.0014 - mae: 0.0275\n",
      "Epoch 38/40\n",
      "10/10 [==============================] - 0s 5ms/step - loss: 0.0013 - mae: 0.0269\n",
      "Epoch 39/40\n",
      "10/10 [==============================] - 0s 5ms/step - loss: 0.0016 - mae: 0.0287\n",
      "Epoch 40/40\n",
      "10/10 [==============================] - 0s 5ms/step - loss: 0.0013 - mae: 0.0254\n"
     ]
    },
    {
     "data": {
      "text/plain": [
       "<keras.callbacks.History at 0x1f175c64700>"
      ]
     },
     "execution_count": 229,
     "metadata": {},
     "output_type": "execute_result"
    }
   ],
   "source": [
    "model.fit(X,Y, epochs=40)"
   ]
  },
  {
   "cell_type": "markdown",
   "id": "01e370d5",
   "metadata": {},
   "source": [
    "средний модуль ошибки"
   ]
  },
  {
   "cell_type": "code",
   "execution_count": 230,
   "id": "fbd998fe",
   "metadata": {},
   "outputs": [
    {
     "name": "stdout",
     "output_type": "stream",
     "text": [
      "mae = 0.7269305308008345\n"
     ]
    }
   ],
   "source": [
    "pred = model.predict(X_test)\n",
    "err = np.mean(abs(pred - y_test))\n",
    "print('mae = {}'.format(err))"
   ]
  },
  {
   "cell_type": "markdown",
   "id": "9a88d67f",
   "metadata": {},
   "source": [
    "значения предсказанные сетью"
   ]
  },
  {
   "cell_type": "code",
   "execution_count": 234,
   "id": "2c399b8d",
   "metadata": {},
   "outputs": [
    {
     "data": {
      "image/png": "[encoded data removed]",
      "text/plain": [
       "<Figure size 432x288 with 1 Axes>"
      ]
     },
     "metadata": {
      "needs_background": "light"
     },
     "output_type": "display_data"
    }
   ],
   "source": [
    "plt.plot(t[:-28], x[:-28], '-')\n",
    "plt.plot(t[-29:-1], pred, '-')\n",
    "plt.show()"
   ]
  },
  {
   "cell_type": "markdown",
   "id": "ea9d02b0",
   "metadata": {},
   "source": [
    "задание 3: аппроксимация"
   ]
  },
  {
   "cell_type": "code",
   "execution_count": 235,
   "id": "f54027ff",
   "metadata": {},
   "outputs": [
    {
     "data": {
      "image/png": "[encoded data removed]",
      "text/plain": [
       "<Figure size 432x288 with 1 Axes>"
      ]
     },
     "metadata": {
      "needs_background": "light"
     },
     "output_type": "display_data"
    }
   ],
   "source": [
    "preds = model.predict(X)\n",
    "plt.plot(t,x,'-')\n",
    "plt.plot(t[d:],preds,'.')\n",
    "plt.show()"
   ]
  },
  {
   "cell_type": "code",
   "execution_count": 237,
   "id": "0c0628b4",
   "metadata": {},
   "outputs": [
    {
     "name": "stdout",
     "output_type": "stream",
     "text": [
      "mae = 0.8466912865501994\n"
     ]
    }
   ],
   "source": [
    "err = np.mean(abs(pred - x[d:]))\n",
    "print('mae = {}'.format(err))"
   ]
  }
 ],
 "metadata": {
  "kernelspec": {
   "display_name": "Python 3",
   "language": "python",
   "name": "python3"
  },
  "language_info": {
   "codemirror_mode": {
    "name": "ipython",
    "version": 3
   },
   "file_extension": ".py",
   "mimetype": "text/x-python",
   "name": "python",
   "nbconvert_exporter": "python",
   "pygments_lexer": "ipython3",
   "version": "3.8.10"
  }
 },
 "nbformat": 4,
 "nbformat_minor": 5
}
